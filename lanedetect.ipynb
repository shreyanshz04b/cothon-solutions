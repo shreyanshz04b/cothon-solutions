{
 "cells": [
  {
   "cell_type": "code",
   "execution_count": 1,
   "id": "b7b72039-da3f-4a2f-bc2d-24ce9bcba7f9",
   "metadata": {},
   "outputs": [],
   "source": [
    "import cv2\n",
    "import numpy as np"
   ]
  },
  {
   "cell_type": "code",
   "execution_count": 2,
   "id": "5f577e63-5a88-4398-971c-55cf392230c0",
   "metadata": {},
   "outputs": [],
   "source": [
    "def canny_edge_detection(image):\n",
    "    gray = cv2.cvtColor(image, cv2.COLOR_BGR2GRAY)\n",
    "    blur = cv2.GaussianBlur(gray, (5, 5), 0)\n",
    "    edges = cv2.Canny(blur, 50, 150)\n",
    "    return edges\n"
   ]
  },
  {
   "cell_type": "code",
   "execution_count": 3,
   "id": "b2d944b4-16e0-4ef5-b43c-42a848bd59cf",
   "metadata": {},
   "outputs": [],
   "source": [
    "def region_of_interest(image):\n",
    "    height = image.shape[0]\n",
    "    width = image.shape[1]\n",
    "    polygons = np.array([[(50, height), (width-50, height), (width//2, height//3)]], dtype=np.int32)\n",
    "    mask = np.zeros_like(image)\n",
    "    cv2.fillPoly(mask, polygons, 255)\n",
    "    masked_image = cv2.bitwise_and(image, image, mask=mask)\n",
    "    return masked_image\n"
   ]
  },
  {
   "cell_type": "code",
   "execution_count": 4,
   "id": "964b978c-efff-4dd2-8bef-9e3f3a89544b",
   "metadata": {},
   "outputs": [],
   "source": [
    "def draw_lines(image, lines):\n",
    "    line_image = np.zeros_like(image)\n",
    "    if lines is not None:\n",
    "        for line in lines:\n",
    "            x1, y1, x2, y2 = line.reshape(4)\n",
    "            cv2.line(line_image, (x1, y1), (x2, y2), (0, 255, 0), 10)\n",
    "    return line_image\n"
   ]
  },
  {
   "cell_type": "code",
   "execution_count": 5,
   "id": "29f80684-52ab-4efd-ba43-c50dd1d72bac",
   "metadata": {},
   "outputs": [],
   "source": [
    "def hough_lines_detection(image):\n",
    "    lines = cv2.HoughLinesP(\n",
    "        image,\n",
    "        rho=1,\n",
    "        theta=np.pi / 180,\n",
    "        threshold=50,\n",
    "        minLineLength=100,\n",
    "        maxLineGap=30\n",
    "    )\n",
    "    return lines\n"
   ]
  },
  {
   "cell_type": "code",
   "execution_count": 6,
   "id": "1c757bfb-319b-4422-9f95-5ac361b9ab93",
   "metadata": {},
   "outputs": [],
   "source": [
    "def filter_lines_by_slope(lines, min_slope=0.5, max_slope=2.0):\n",
    "    filtered_lines = []\n",
    "    for line in lines:\n",
    "        x1, y1, x2, y2 = line.reshape(4)\n",
    "        slope = (y2 - y1) / (x2 - x1) if (x2 - x1) != 0 else float('inf')\n",
    "        if min_slope <= abs(slope) <= max_slope:\n",
    "            filtered_lines.append(line)\n",
    "    return filtered_lines\n"
   ]
  },
  {
   "cell_type": "code",
   "execution_count": 7,
   "id": "ffeda2c7-223a-4a1c-98da-aa2a90db0640",
   "metadata": {},
   "outputs": [],
   "source": [
    "def estimate_speed(prev_position, curr_position, time_interval):\n",
    "    displacement = np.linalg.norm(np.array(curr_position) - np.array(prev_position))\n",
    "    speed = displacement / time_interval\n",
    "    return speed\n"
   ]
  },
  {
   "cell_type": "code",
   "execution_count": 8,
   "id": "0c99b42c-6586-4a7a-ba51-f7645631d771",
   "metadata": {},
   "outputs": [],
   "source": [
    "def lane_detection_pipeline(image, prev_position=None):\n",
    "    canny_edges = canny_edge_detection(image)\n",
    "    cropped_edges = region_of_interest(canny_edges)\n",
    "    lines = hough_lines_detection(cropped_edges)\n",
    "    \n",
    "    if lines is not None and len(lines) > 0:\n",
    "        lines = filter_lines_by_slope(lines, min_slope=0.2, max_slope=2.0)\n",
    "    else:\n",
    "        lines = []\n",
    "\n",
    "    line_image = draw_lines(image, lines)\n",
    "    combined_image = cv2.addWeighted(image, 0.8, line_image, 1.5, 0)\n",
    "    \n",
    "    if prev_position is not None and lines:\n",
    "        curr_position = (lines[0][0][0], lines[0][0][1])\n",
    "        speed = estimate_speed(prev_position, curr_position, time_interval=1)\n",
    "        cv2.putText(combined_image, f\"Speed: {speed:.2f} m/s\", (50, 50), cv2.FONT_HERSHEY_SIMPLEX, 1, (0, 255, 0), 2)\n",
    "\n",
    "    return combined_image, (lines[0][0][0], lines[0][0][1]) if lines else prev_position\n"
   ]
  },
  {
   "cell_type": "code",
   "execution_count": 9,
   "id": "c687e730-ce6d-4c0f-b8af-00fbd22aa8cd",
   "metadata": {},
   "outputs": [],
   "source": [
    "def real_time_lane_detection():\n",
    "    cap = cv2.VideoCapture(0)\n",
    "    prev_position = None\n",
    "\n",
    "    while cap.isOpened():\n",
    "        ret, frame = cap.read()\n",
    "        if not ret:\n",
    "            break\n",
    "        \n",
    "        processed_frame, prev_position = lane_detection_pipeline(frame, prev_position)\n",
    "        \n",
    "        cv2.imshow(\"Real-Time Lane Detection\", processed_frame)\n",
    "\n",
    "        if cv2.waitKey(1) & 0xFF == ord('q'):\n",
    "            break\n",
    "\n",
    "    cap.release()\n",
    "    cv2.destroyAllWindows()\n"
   ]
  },
  {
   "cell_type": "code",
   "execution_count": null,
   "id": "57fdcd9b-f9cb-4baf-8eba-3ffce844878e",
   "metadata": {},
   "outputs": [],
   "source": [
    "real_time_lane_detection()\n"
   ]
  },
  {
   "cell_type": "code",
   "execution_count": null,
   "id": "f7c2c6b8-bdeb-422f-a433-d85460971a45",
   "metadata": {},
   "outputs": [],
   "source": []
  }
 ],
 "metadata": {
  "kernelspec": {
   "display_name": "Python 3 (ipykernel)",
   "language": "python",
   "name": "python3"
  },
  "language_info": {
   "codemirror_mode": {
    "name": "ipython",
    "version": 3
   },
   "file_extension": ".py",
   "mimetype": "text/x-python",
   "name": "python",
   "nbconvert_exporter": "python",
   "pygments_lexer": "ipython3",
   "version": "3.11.10"
  }
 },
 "nbformat": 4,
 "nbformat_minor": 5
}
