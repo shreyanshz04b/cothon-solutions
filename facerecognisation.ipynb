{
 "cells": [
  {
   "cell_type": "code",
   "execution_count": 1,
   "id": "7d1a0579-b6e7-4196-a1d7-aef1f44fd6e5",
   "metadata": {},
   "outputs": [],
   "source": [
    "import cv2\n",
    "import numpy as np\n",
    "from datetime import datetime\n",
    "face_cascade = cv2.CascadeClassifier(cv2.data.haarcascades + 'haarcascade_frontalface_default.xml')"
   ]
  },
  {
   "cell_type": "code",
   "execution_count": 2,
   "id": "26065098-de6e-4131-a840-a42c0bff0ca3",
   "metadata": {},
   "outputs": [],
   "source": [
    "def estimate_age(face_roi):\n",
    "\n",
    "    height, width = face_roi.shape[:2]\n",
    "\n",
    "  \n",
    "    if height > 200:\n",
    "        return \"30-40\"\n",
    "    elif height > 150:\n",
    "        return \"25-35\"\n",
    "    elif height > 100:\n",
    "        return \"20-30\"\n",
    "    elif height > 50:\n",
    "        return \"10-20\"\n",
    "    else:\n",
    "        return \"Child\""
   ]
  },
  {
   "cell_type": "code",
   "execution_count": null,
   "id": "30e23aa2-5844-4536-9c45-cc407c16a0d7",
   "metadata": {},
   "outputs": [],
   "source": [
    "cap = cv2.VideoCapture(0)\n",
    "cap.set(cv2.CAP_PROP_FRAME_WIDTH, 640)\n",
    "cap.set(cv2.CAP_PROP_FRAME_HEIGHT, 480)\n",
    "\n",
    "fps = cap.get(cv2.CAP_PROP_FPS)  # Get frames per second of the video stream\n",
    "\n",
    "while True:\n",
    "    ret, frame = cap.read()\n",
    "    if not ret:\n",
    "        break\n",
    "\n",
    "    \n",
    "    gray = cv2.cvtColor(frame, cv2.COLOR_BGR2GRAY)\n",
    "\n",
    " \n",
    "    faces = face_cascade.detectMultiScale(gray, scaleFactor=1.1, minNeighbors=5, minSize=(30, 30))\n",
    "\n",
    " \n",
    "    for (x, y, w, h) in faces:\n",
    "        cv2.rectangle(frame, (x, y), (x+w, y+h), (255, 0, 0), 2)\n",
    "\n",
    "       \n",
    "        face_roi = frame[y:y+h, x:x+w]\n",
    "\n",
    "        age = estimate_age(face_roi)\n",
    "\n",
    "   \n",
    "        timestamp = datetime.now().strftime('%Y-%m-%d %H:%M:%S')\n",
    "\n",
    "       \n",
    "        label = f'Age: {age}, {timestamp}'\n",
    "\n",
    "      \n",
    "        detection_info = \"Real Face\" \n",
    "        if w < 100 or h < 100:  \n",
    "            detection_info = \"Possible Mobile Face\"  \n",
    "\n",
    "        cv2.putText(frame, detection_info, (10, 50), cv2.FONT_HERSHEY_SIMPLEX, 0.7, (0, 255, 255), 2)\n",
    "        cv2.putText(frame, f'FPS: {fps}', (10, 30), cv2.FONT_HERSHEY_SIMPLEX, 1, (0, 255, 0), 2)\n",
    "        cv2.putText(frame, label, (x, y - 10), cv2.FONT_HERSHEY_SIMPLEX, 0.7, (255, 255, 255), 2)\n",
    "\n",
    "   \n",
    "    cv2.imshow('Real-Time Face & Age Detection', frame)\n",
    "\n",
    "    \n",
    "    if cv2.waitKey(1) & 0xFF == ord('q'):\n",
    "        break\n",
    "\n",
    "\n",
    "cap.release()\n",
    "cv2.destroyAllWindows()"
   ]
  },
  {
   "cell_type": "code",
   "execution_count": null,
   "id": "b32421cf-2442-4951-aeec-c7eb010d8b95",
   "metadata": {},
   "outputs": [],
   "source": []
  }
 ],
 "metadata": {
  "kernelspec": {
   "display_name": "Python 3 (ipykernel)",
   "language": "python",
   "name": "python3"
  },
  "language_info": {
   "codemirror_mode": {
    "name": "ipython",
    "version": 3
   },
   "file_extension": ".py",
   "mimetype": "text/x-python",
   "name": "python",
   "nbconvert_exporter": "python",
   "pygments_lexer": "ipython3",
   "version": "3.11.10"
  }
 },
 "nbformat": 4,
 "nbformat_minor": 5
}
